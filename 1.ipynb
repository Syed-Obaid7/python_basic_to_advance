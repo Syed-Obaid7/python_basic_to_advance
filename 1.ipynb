{
 "cells": [
  {
   "cell_type": "markdown",
   "id": "94841c26-8d5a-4c66-aaaa-4a29496e88f9",
   "metadata": {},
   "source": [
    "1. Write a Python program that defines a function called \"add_numbers\" that takes two arguments (i.e.,numbers) and returns their sum. Within the function, add the two numbers together and return the result using the return statement. Call the function with the values 5 and 6, and print out the returned result.\n",
    "This will result in the addition of 5 and 6, with the output of the program being the sum of these two\n",
    "numbers."
   ]
  },
  {
   "cell_type": "code",
   "execution_count": 2,
   "id": "5fbb988c-e66a-4369-9bbd-f8acbc92308c",
   "metadata": {},
   "outputs": [],
   "source": [
    "def add_numbers (n1,n2) :\n",
    "    sum = n1 + n2\n",
    "    return sum"
   ]
  },
  {
   "cell_type": "code",
   "execution_count": 3,
   "id": "31a4bfda-bbf6-4cbf-a186-c8a1f5766096",
   "metadata": {},
   "outputs": [
    {
     "data": {
      "text/plain": [
       "11"
      ]
     },
     "execution_count": 3,
     "metadata": {},
     "output_type": "execute_result"
    }
   ],
   "source": [
    "add_numbers(5,6)"
   ]
  },
  {
   "cell_type": "markdown",
   "id": "15cef29c-a94b-40ea-94ad-2ab8a4cf0ee7",
   "metadata": {},
   "source": [
    "2. Write a Python program that calculates the square root of a given number using a built-in function.\n",
    "Specifically, the program should take an integer or float input from the user, calculate its square root\n",
    "using the 'sqrt()' function from the 'math' module, and print out the result to the user. As an example,\n",
    "calculate the square root of the number 625 using this program, which should output the value of 25."
   ]
  },
  {
   "cell_type": "code",
   "execution_count": 3,
   "id": "cfcf3da3-6f26-4094-a8ff-1d3612d7a96e",
   "metadata": {},
   "outputs": [
    {
     "name": "stdin",
     "output_type": "stream",
     "text": [
      "Enter the square root :  625\n"
     ]
    },
    {
     "name": "stdout",
     "output_type": "stream",
     "text": [
      "The square root of 625 is : 25.0\n"
     ]
    }
   ],
   "source": [
    "import math \n",
    "\n",
    "num = int(input(\"Enter the square root : \"))\n",
    "n = math.sqrt(num)\n",
    "print(f\"The square root of {num} is : {n}\")"
   ]
  },
  {
   "cell_type": "markdown",
   "id": "12ec4bd1-648c-48fd-8d0c-4d2800387973",
   "metadata": {},
   "source": [
    "3. Write a program that prints all prime numbers between 0 to 50."
   ]
  },
  {
   "cell_type": "code",
   "execution_count": 8,
   "id": "51070b53-3b1c-45e0-80db-b8b05e25264f",
   "metadata": {},
   "outputs": [
    {
     "name": "stdout",
     "output_type": "stream",
     "text": [
      "[2, 3, 5, 7, 11, 13, 17, 19, 23, 29, 31, 37, 41, 43, 47]\n"
     ]
    }
   ],
   "source": [
    "def generate_primes():\n",
    "    for num in range(2,51):\n",
    "        is_prime = True \n",
    "        \n",
    "        for i in range(2,num):\n",
    "            if num % i == 0 :\n",
    "                is_prime = False\n",
    "                break \n",
    "                \n",
    "        if is_prime :\n",
    "            yield num \n",
    "            \n",
    "prime_numbers = list(generate_primes())\n",
    "\n",
    "print(prime_numbers)"
   ]
  },
  {
   "cell_type": "code",
   "execution_count": 28,
   "id": "8eadc8c5-6a11-4f01-b9ea-eb5fb19fa2b7",
   "metadata": {},
   "outputs": [
    {
     "name": "stdin",
     "output_type": "stream",
     "text": [
      "Enter a number :  120\n"
     ]
    },
    {
     "name": "stdout",
     "output_type": "stream",
     "text": [
      "120 is a composite number \n"
     ]
    }
   ],
   "source": [
    "def is_prime(n):\n",
    "    if n < 2 :\n",
    "        return False\n",
    "    for i in range(2, int(n**0.5) + 1 ):\n",
    "        if n % i == 0 :\n",
    "            return False \n",
    "    return True \n",
    "\n",
    "try :\n",
    "    num = int(input(\"Enter a number : \"))\n",
    "    if is_prime(num) :\n",
    "        print(num , \"is a prime number\")\n",
    "    else :\n",
    "        print(num, \"is a composite number \")\n",
    "except ValueError :\n",
    "    print(\"Invalid input. Please enter a valid integer \")\n",
    "    "
   ]
  },
  {
   "cell_type": "markdown",
   "id": "047c9246-e652-4453-850e-815721d96ddb",
   "metadata": {},
   "source": [
    "4. How can we swap the values of three variables (let's say a, b, and c) without using a fourth variable?\n",
    "For example, if we have a=5, b=8, and c=9, how can we obtain a=9, b=5, and c=8? The challenge is to\n",
    "perform this operation without using an additional variable to store any of the values during the\n",
    "swapping process."
   ]
  },
  {
   "cell_type": "code",
   "execution_count": 29,
   "id": "a74b6bac-cd4e-4dd3-97c9-1ce8d628f0ff",
   "metadata": {},
   "outputs": [],
   "source": [
    "a,b,c = 9,5,8\n",
    "c,a,b = a,b,c"
   ]
  },
  {
   "cell_type": "code",
   "execution_count": 30,
   "id": "a8a018e7-4675-423d-b236-c8420f5f161f",
   "metadata": {},
   "outputs": [
    {
     "name": "stdout",
     "output_type": "stream",
     "text": [
      "5 8 9\n"
     ]
    }
   ],
   "source": [
    "print(a,b,c)"
   ]
  },
  {
   "cell_type": "markdown",
   "id": "a6c763e0-c343-4564-b926-da418f6b1354",
   "metadata": {},
   "source": [
    "5. Can you write a program that determines the nature of a given number (in this case, 87) as being\n",
    "positive, negative, or zero? The program should be designed to take the number as input and perform the\n",
    "necessary calculations to determine if the number is positive (i.e., greater than zero), negative (i.e., less\n",
    "than zero), or zero (i.e., equal to zero). The output of the program should indicate which of these three\n",
    "categories the given number falls into."
   ]
  },
  {
   "cell_type": "code",
   "execution_count": 41,
   "id": "baff250f-2e46-4584-b57d-5f19bc1ae2fe",
   "metadata": {},
   "outputs": [
    {
     "name": "stdin",
     "output_type": "stream",
     "text": [
      "Enter a num :  -1889\n"
     ]
    },
    {
     "name": "stdout",
     "output_type": "stream",
     "text": [
      "-1889 is negative \n"
     ]
    }
   ],
   "source": [
    "try :\n",
    "    num = int(input(\"Enter a num : \"))\n",
    "except ValueError as v :\n",
    "    print(\" Enter a valid integer \")\n",
    "else :\n",
    "    if num < 0 :\n",
    "        print(f\"{num} is negative \")\n",
    "    elif num == 0 :\n",
    "        print(f\"{num} is equal to Zero\")\n",
    "    else :\n",
    "        print(f\"{num} is positive \")"
   ]
  },
  {
   "cell_type": "markdown",
   "id": "ff4ad818-422e-4817-91ab-964b5f841627",
   "metadata": {},
   "source": [
    "6. How can you create a program that determines whether a given number (in this case, 98) is even or\n",
    "odd? The program should be designed to take the number as input and perform the necessary\n",
    "calculations to determine whether it is divisible by two. If the number is divisible by two without leaving a\n",
    "remainder, it is an even number, and if there is a remainder, it is an odd number. The output of the\n",
    "program should indicate whether the given number is even or odd."
   ]
  },
  {
   "cell_type": "code",
   "execution_count": 48,
   "id": "2ca83f25-5213-4c57-bbab-d7af5d0e0a53",
   "metadata": {},
   "outputs": [
    {
     "name": "stdin",
     "output_type": "stream",
     "text": [
      " Enter a number : 989\n"
     ]
    },
    {
     "name": "stdout",
     "output_type": "stream",
     "text": [
      "989 is an odd number \n"
     ]
    }
   ],
   "source": [
    "try :\n",
    "    num = int(input(\" Enter a number :\"))\n",
    "except ValueError as v :\n",
    "    print(\"Enter a valid integer \")\n",
    "else : \n",
    "    if num % 2 == 0 :\n",
    "        print(f\"{num} is an even number \")\n",
    "    else :\n",
    "        print(f\"{num} is an odd number \")"
   ]
  },
  {
   "cell_type": "markdown",
   "id": "b3e012bf-d7ac-456c-9014-29205611a0c8",
   "metadata": {},
   "source": [
    "7. Write a program for sum of digits.the digits are 76543 and the output should be 25."
   ]
  },
  {
   "cell_type": "code",
   "execution_count": 1,
   "id": "becc79ee-87a6-47ea-84d0-bc4d853d4a87",
   "metadata": {},
   "outputs": [
    {
     "data": {
      "text/plain": [
       "25"
      ]
     },
     "execution_count": 1,
     "metadata": {},
     "output_type": "execute_result"
    }
   ],
   "source": [
    "n = 76543\n",
    "sum = 0\n",
    "while(n > 0) :\n",
    "    digit = n % 10\n",
    "    sum += digit\n",
    "    n //= 10 \n",
    "sum    "
   ]
  },
  {
   "cell_type": "markdown",
   "id": "83e31b4a-fc9e-449f-9ba1-48abb45b5a13",
   "metadata": {},
   "source": [
    "8. Write a program for reversing the given number 5436 and the output should be 6345."
   ]
  },
  {
   "cell_type": "code",
   "execution_count": 7,
   "id": "1b083960-542c-435f-b01c-2284e3aeab53",
   "metadata": {},
   "outputs": [
    {
     "data": {
      "text/plain": [
       "6345"
      ]
     },
     "execution_count": 7,
     "metadata": {},
     "output_type": "execute_result"
    }
   ],
   "source": [
    "n = 5436\n",
    "rev = 0\n",
    "while(n > 0):\n",
    "    digit = n % 10\n",
    "    rev = rev * 10 + digit\n",
    "    n //= 10\n",
    "rev    "
   ]
  },
  {
   "cell_type": "markdown",
   "id": "b5a1a5c7-8c0f-41e5-8fd6-d86b683acb23",
   "metadata": {},
   "source": [
    "9. Write a program to check if a given number 371 is an Armstrong number?"
   ]
  },
  {
   "cell_type": "code",
   "execution_count": 21,
   "id": "e2340d99-4242-4a67-b1bd-654f69dc707f",
   "metadata": {},
   "outputs": [
    {
     "data": {
      "text/plain": [
       "371"
      ]
     },
     "execution_count": 21,
     "metadata": {},
     "output_type": "execute_result"
    }
   ],
   "source": [
    "n = 371 \n",
    "result = 0\n",
    "# Armstrong number is a number whose sum of cubes of the digits is equal to the number.\n",
    "while( n > 0) :\n",
    "    digit = n % 10\n",
    "    result += digit ** 3\n",
    "    n //= 10\n",
    "result       "
   ]
  },
  {
   "cell_type": "markdown",
   "id": "fef3946f-1edd-4d36-bf83-98e15826d415",
   "metadata": {},
   "source": [
    "10. Write a program the given year is 1996, a leap year."
   ]
  },
  {
   "cell_type": "code",
   "execution_count": 32,
   "id": "033fa61f-7ca0-4131-97e2-22872cefa6c7",
   "metadata": {},
   "outputs": [
    {
     "name": "stdout",
     "output_type": "stream",
     "text": [
      "1996, is a leap year \n"
     ]
    }
   ],
   "source": [
    "year = 1996\n",
    "'''\n",
    "* Years divisible by 4 are potential leap years.\n",
    "* Years divisible by 100 are not leap years, unless they are also divisible by 400.\n",
    "'''\n",
    "\n",
    "if year % 4 == 0 :\n",
    "    if year % 100 == 0:\n",
    "        if year % 400 == 0 :\n",
    "            print(f\"{year}, is a leap year\")\n",
    "        else :\n",
    "            print(f\"{year}, is not a leap year\")\n",
    "    else:\n",
    "        print(f\"{year}, is a leap year \")\n",
    "else :\n",
    "    print(f\"{year}, is not a leap year \")\n",
    "                  "
   ]
  }
 ],
 "metadata": {
  "kernelspec": {
   "display_name": "Python 3 (ipykernel)",
   "language": "python",
   "name": "python3"
  },
  "language_info": {
   "codemirror_mode": {
    "name": "ipython",
    "version": 3
   },
   "file_extension": ".py",
   "mimetype": "text/x-python",
   "name": "python",
   "nbconvert_exporter": "python",
   "pygments_lexer": "ipython3",
   "version": "3.10.8"
  }
 },
 "nbformat": 4,
 "nbformat_minor": 5
}
