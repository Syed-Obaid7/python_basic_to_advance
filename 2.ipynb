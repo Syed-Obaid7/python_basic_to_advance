{
 "cells": [
  {
   "cell_type": "raw",
   "id": "5efd5d0a-a002-4ea7-b678-efe359d93ed2",
   "metadata": {},
   "source": [
    "Q1. Create a list in python using the followings: 2,3,4,5,6,7 with variable ‘a’\n",
    "Add ‘mango to the above list\n",
    "Also add banana, grapes & orange in the list\n",
    "insert apple in the 5th position of a variable ‘a’\n",
    "Remove last item from the list"
   ]
  },
  {
   "cell_type": "code",
   "execution_count": 5,
   "id": "60108b1f-6670-4f75-bc63-1bb02cbd005f",
   "metadata": {},
   "outputs": [
    {
     "data": {
      "text/plain": [
       "[2, 3, 4, 5, 6, 'apple', 7, 'mango', 'banana', 'grpaes']"
      ]
     },
     "execution_count": 5,
     "metadata": {},
     "output_type": "execute_result"
    }
   ],
   "source": [
    "a = [2,3,4,5,6,7]\n",
    "a.append(\"mango\")\n",
    "a.append(\"banana\")\n",
    "a.append(\"grpaes\")\n",
    "a.append(\"orange\")\n",
    "a.insert(5, \"apple\")\n",
    "a.pop()\n",
    "a"
   ]
  },
  {
   "cell_type": "raw",
   "id": "93fdf1d6-975b-4db8-acd8-400c2df95619",
   "metadata": {},
   "source": [
    "2. L = [1,2,3,4,5,6,7]\n",
    "Using the above list slice from 1:4"
   ]
  },
  {
   "cell_type": "code",
   "execution_count": 6,
   "id": "872e0c6f-8e19-478c-8d43-85f3f9aadedc",
   "metadata": {},
   "outputs": [
    {
     "data": {
      "text/plain": [
       "[2, 3, 4]"
      ]
     },
     "execution_count": 6,
     "metadata": {},
     "output_type": "execute_result"
    }
   ],
   "source": [
    "l = [1,2,3,4,5,6,7]\n",
    "l[1:4]"
   ]
  },
  {
   "cell_type": "raw",
   "id": "95555961-4985-4b67-b683-4c0d4b751b1a",
   "metadata": {},
   "source": [
    "3. Reverse the order of given string L = [4,5,6,8,3] Without using reverse() function. "
   ]
  },
  {
   "cell_type": "code",
   "execution_count": 1,
   "id": "3434ecc2-553f-4bd8-8896-81dfa856252a",
   "metadata": {},
   "outputs": [
    {
     "data": {
      "text/plain": [
       "[3, 8, 6, 5, 4]"
      ]
     },
     "execution_count": 1,
     "metadata": {},
     "output_type": "execute_result"
    }
   ],
   "source": [
    "l = [4,5,6,8,3]\n",
    "rev = []\n",
    "for i in range(len(l)) :\n",
    "    rev.append(l[len(l)-i-1])\n",
    "rev      "
   ]
  },
  {
   "cell_type": "code",
   "execution_count": 2,
   "id": "de7c4497-7d7c-45e9-b02b-3d4950b014ac",
   "metadata": {},
   "outputs": [
    {
     "data": {
      "text/plain": [
       "[3, 8, 6, 5, 4]"
      ]
     },
     "execution_count": 2,
     "metadata": {},
     "output_type": "execute_result"
    }
   ],
   "source": [
    "l = [4,5,6,8,3]\n",
    "l[::-1]"
   ]
  },
  {
   "cell_type": "raw",
   "id": "4fc7daf7-f66c-430f-9328-73719a0542c4",
   "metadata": {},
   "source": [
    "4. Use list comprehension to square the given list L=[2,4,7,3,6,8]"
   ]
  },
  {
   "cell_type": "code",
   "execution_count": 3,
   "id": "67705e17-c2a9-4c9e-850f-031ee1f4b455",
   "metadata": {},
   "outputs": [
    {
     "data": {
      "text/plain": [
       "[4, 16, 49, 9, 36, 64]"
      ]
     },
     "execution_count": 3,
     "metadata": {},
     "output_type": "execute_result"
    }
   ],
   "source": [
    "l = [2,4,7,3,6,8]\n",
    "[i**2 for i in l]"
   ]
  },
  {
   "cell_type": "raw",
   "id": "c5cafe5d-7e12-444c-9b34-ccde261da1bb",
   "metadata": {},
   "source": [
    "5. Create a function that takes in a tuple of integers and returns the sum of the integers. Test the\n",
    "function with a tuple of your choice."
   ]
  },
  {
   "cell_type": "code",
   "execution_count": 8,
   "id": "f7eb7dcb-a954-4910-b93c-f6bf0fc2b93d",
   "metadata": {},
   "outputs": [],
   "source": [
    "def tuple_sum(n):\n",
    "    return sum(n)"
   ]
  },
  {
   "cell_type": "code",
   "execution_count": 9,
   "id": "d41aa9cc-b221-44ce-8ee5-653ad23fbb15",
   "metadata": {},
   "outputs": [
    {
     "data": {
      "text/plain": [
       "74"
      ]
     },
     "execution_count": 9,
     "metadata": {},
     "output_type": "execute_result"
    }
   ],
   "source": [
    "my_tuple = (4,20,30,20)\n",
    "tuple_sum(my_tuple)"
   ]
  },
  {
   "cell_type": "raw",
   "id": "b38457b6-be62-4e64-9774-d325040ff9e3",
   "metadata": {},
   "source": [
    "6. Create two sets of your favourite fruits, and use the union() method to combine them into a single set.\n",
    "Print the resulting set to the console."
   ]
  },
  {
   "cell_type": "code",
   "execution_count": 12,
   "id": "20fbcc01-de95-484c-8586-f0d5612a45d1",
   "metadata": {},
   "outputs": [
    {
     "data": {
      "text/plain": [
       "{'apple',\n",
       " 'dragon fruit',\n",
       " 'kiwi',\n",
       " 'mango',\n",
       " 'musk melon',\n",
       " 'orange',\n",
       " 'water melon'}"
      ]
     },
     "execution_count": 12,
     "metadata": {},
     "output_type": "execute_result"
    }
   ],
   "source": [
    "s1 = {'mango','apple','water melon','orange'}\n",
    "s2 = {'mango','apple','kiwi','dragon fruit','musk melon'}\n",
    "s = s1.union(s2)\n",
    "s"
   ]
  },
  {
   "cell_type": "raw",
   "id": "fe0a6a96-4d8e-43bb-aaf2-c811eeb3452e",
   "metadata": {},
   "source": [
    "7.Create a set of random words, and use the add() method to add a new word to the set. Print the\n",
    "resulting set to the console."
   ]
  },
  {
   "cell_type": "code",
   "execution_count": 14,
   "id": "8ca0eeb2-95f1-432b-9a14-52bf6d0ca55f",
   "metadata": {},
   "outputs": [
    {
     "data": {
      "text/plain": [
       "{'?', 'are', 'doing', 'what', 'you'}"
      ]
     },
     "execution_count": 14,
     "metadata": {},
     "output_type": "execute_result"
    }
   ],
   "source": [
    "s = {\"what\",\"are\",\"you\",\"doing\"}\n",
    "s.add(\"?\")\n",
    "s"
   ]
  },
  {
   "cell_type": "raw",
   "id": "cb1f8c69-4f29-4e88-9af2-0cfb8a9ac28b",
   "metadata": {},
   "source": [
    "8. Create a set of your favourite animals, and use the remove() method to remove one animal from the\n",
    "set. Print the resulting set to the console."
   ]
  },
  {
   "cell_type": "code",
   "execution_count": 18,
   "id": "c8698b37-3562-4450-8680-dfc7e4f0a92e",
   "metadata": {},
   "outputs": [
    {
     "data": {
      "text/plain": [
       "{'elephant', 'horse', 'lion', 'tiger', 'wolf'}"
      ]
     },
     "execution_count": 18,
     "metadata": {},
     "output_type": "execute_result"
    }
   ],
   "source": [
    "animals = {\"wolf\",\"lion\",\"elephant\",\"horse\",\"tiger\",\"deer\"}\n",
    "animals.remove(\"deer\")\n",
    "animals"
   ]
  },
  {
   "cell_type": "raw",
   "id": "f58233e0-021b-42e7-8828-f5f4d1b6f62d",
   "metadata": {},
   "source": [
    "9. favorite_books = {\"1984\", \"To Kill a Mockingbird\", \"Pride and Prejudice\"}\n",
    "favorite_movies = [\"The Shawshank Redemption\", \"The Godfather\", \"The Dark Knight\"]\n",
    "Use the zip() function to combine the book set and movie list into a list of tuples representing book/\n",
    "movie pairs. Print the resulting list."
   ]
  },
  {
   "cell_type": "code",
   "execution_count": 41,
   "id": "6a831c2e-745d-4362-9e93-a6c7f69110ca",
   "metadata": {},
   "outputs": [
    {
     "name": "stdout",
     "output_type": "stream",
     "text": [
      "> movies_books_pair : \n",
      "('Pride and Prejudice', 'The Shawshank Redemption')\n",
      "('1984', 'The Godfather')\n",
      "('To Kill a Mockingbird', 'The Dark Knight')\n"
     ]
    }
   ],
   "source": [
    "favorite_books = {\"1984\", \"To Kill a Mockingbird\", \"Pride and Prejudice\"}\n",
    "favorite_movies = [\"The Shawshank Redemption\", \"The Godfather\", \"The Dark Knight\"]\n",
    "\n",
    "movies_books = list(zip(favorite_books,favorite_movies))\n",
    "\n",
    "print(\"> movies_books_pair : \")\n",
    "for pair in movies_books :\n",
    "    print(pair)"
   ]
  },
  {
   "cell_type": "raw",
   "id": "3ae3100f-b45e-40c3-b561-1dfd3bfa5730",
   "metadata": {},
   "source": [
    "the code combines- favorite books and movies into pairs using the zip() function. It takes one book and one movie at a time and creates a tuple with them.\n",
    "\n",
    "For example, let's say you have three favorite books and three favorite movies. The code will pair them up like this:\n",
    "\n",
    "The first book, \"1984\", will be paired with the first movie, \"The Shawshank Redemption\".\n",
    "The second book, \"To Kill a Mockingbird\", will be paired with the second movie, \"The Godfather\".\n",
    "The third book, \"Pride and Prejudice\", will be paired with the third movie, \"The Dark Knight\".\n",
    "The resulting pairs are stored in a list called book_movie_pairs. Each pair is represented as a tuple."
   ]
  },
  {
   "cell_type": "raw",
   "id": "6edd589f-cdf8-41e4-bea1-a71eecca99b6",
   "metadata": {},
   "source": [
    "10. Write a Python program to find the difference between consecutive numbers in a list."
   ]
  },
  {
   "cell_type": "code",
   "execution_count": 28,
   "id": "b58593ad-0a63-4933-90a0-8adf6ca90b9a",
   "metadata": {},
   "outputs": [
    {
     "data": {
      "text/plain": [
       "-26"
      ]
     },
     "execution_count": 28,
     "metadata": {},
     "output_type": "execute_result"
    }
   ],
   "source": [
    "l = [4,5,6,8,3]\n",
    "difference = 0\n",
    "for i in l :\n",
    "    difference -= i\n",
    "difference     "
   ]
  },
  {
   "cell_type": "code",
   "execution_count": 39,
   "id": "18c62731-19d6-4ba2-83b7-8780f3a42895",
   "metadata": {},
   "outputs": [
    {
     "data": {
      "text/plain": [
       "[1, 1, 2, -5]"
      ]
     },
     "execution_count": 39,
     "metadata": {},
     "output_type": "execute_result"
    }
   ],
   "source": [
    "def diff_consecutive_numbers(l1) :\n",
    "    difference = []\n",
    "    for i in range(1,len(l1)) :\n",
    "        diff = l1[i]-l1[i-1]\n",
    "        difference.append(diff)\n",
    "    return difference\n",
    "diff_consecutive_numbers(l)"
   ]
  }
 ],
 "metadata": {
  "kernelspec": {
   "display_name": "Python 3 (ipykernel)",
   "language": "python",
   "name": "python3"
  },
  "language_info": {
   "codemirror_mode": {
    "name": "ipython",
    "version": 3
   },
   "file_extension": ".py",
   "mimetype": "text/x-python",
   "name": "python",
   "nbconvert_exporter": "python",
   "pygments_lexer": "ipython3",
   "version": "3.10.8"
  }
 },
 "nbformat": 4,
 "nbformat_minor": 5
}
